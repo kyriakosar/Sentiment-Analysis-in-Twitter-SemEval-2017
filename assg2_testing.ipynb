{
 "cells": [
  {
   "cell_type": "markdown",
   "metadata": {},
   "source": [
    "https://medium.com/analytics-vidhya/bio-tagged-text-to-original-text-99b05da6664\n",
    "\n",
    "https://www.programcreek.com/python/?CodeExample=read+conll\n",
    "\n",
    "https://applied-language-technology.mooc.fi/html/notebooks/part_iii/06_text_linguistics.html#interacting-with-conll-u-annotations-in-python\n",
    "\n",
    "https://www.nltk.org/api/nltk.tag.html\n",
    "\n",
    "\n",
    "https://stackoverflow.com/questions/58736548/how-to-use-word-embedding-as-features-for-crf-sklearn-crfsuite-model-training"
   ]
  },
  {
   "cell_type": "code",
   "execution_count": 20,
   "metadata": {},
   "outputs": [],
   "source": [
    "%matplotlib inline\n",
    "import matplotlib.pyplot as plt\n",
    "plt.style.use('ggplot')"
   ]
  },
  {
   "cell_type": "code",
   "execution_count": 1,
   "metadata": {},
   "outputs": [
    {
     "name": "stderr",
     "output_type": "stream",
     "text": [
      "C:\\Users\\KYRIAKOS ARISTIDOU\\AppData\\Roaming\\Python\\Python38\\site-packages\\tqdm\\auto.py:22: TqdmWarning: IProgress not found. Please update jupyter and ipywidgets. See https://ipywidgets.readthedocs.io/en/stable/user_install.html\n",
      "  from .autonotebook import tqdm as notebook_tqdm\n",
      "[nltk_data] Downloading package averaged_perceptron_tagger to\n",
      "[nltk_data]     C:\\Users\\KYRIAKOS\n",
      "[nltk_data]     ARISTIDOU\\AppData\\Roaming\\nltk_data...\n",
      "[nltk_data]   Package averaged_perceptron_tagger is already up-to-\n",
      "[nltk_data]       date!\n"
     ]
    }
   ],
   "source": [
    "from itertools import chain\n",
    "\n",
    "import nltk\n",
    "import sklearn\n",
    "import numpy as np\n",
    "import scipy.stats\n",
    "from sklearn.metrics import make_scorer\n",
    "from sklearn.model_selection import cross_val_score\n",
    "from sklearn.model_selection import RandomizedSearchCV\n",
    "\n",
    "import sklearn_crfsuite\n",
    "from sklearn_crfsuite import scorers\n",
    "from sklearn_crfsuite import metrics\n",
    "import conllu\n",
    "import pyconll \n",
    "import spacy\n",
    "from nltk import pos_tag\n",
    "from gensim.models import KeyedVectors\n",
    "import gensim\n",
    "from gensim import models\n",
    "nltk.download('averaged_perceptron_tagger') #for pos_tags\n",
    "from nltk.corpus import abc\n"
   ]
  },
  {
   "cell_type": "code",
   "execution_count": 2,
   "metadata": {},
   "outputs": [],
   "source": [
    "word2vec_path = 'GoogleNews-vectors-negative300.bin.gz'\n",
    "model1 = models.KeyedVectors.load_word2vec_format(word2vec_path, binary=True)\n",
    "# model= gensim.models.Word2Vec(abc.sents())\n",
    "# X= list(model.wv.vocab)\n"
   ]
  },
  {
   "cell_type": "code",
   "execution_count": 3,
   "metadata": {},
   "outputs": [],
   "source": [
    "def read_and_pos(filename):\n",
    "  words,biotags = [],[]\n",
    "  result = []\n",
    "  with open(filename,encoding=\"utf8\") as file:\n",
    "    for line in file:\n",
    "      w = line.strip().split('\\t')\n",
    "      if len(w) > 1:\n",
    "        words.append(w[0])\n",
    "        biotags.append(w[1])\n",
    "      else:\n",
    "        pos_tags = [pos for token, pos in pos_tag(words)]\n",
    "        finaltags = [(token, pos, tg) for token, pos, tg in zip(words, pos_tags, biotags)]\n",
    "        result.append(finaltags)\n",
    "        words,biotags,pos_tags,finaltags = [],[],[],[]\n",
    "        continue\n",
    "\n",
    "  return result \n",
    "\n",
    " \n"
   ]
  },
  {
   "cell_type": "code",
   "execution_count": 4,
   "metadata": {},
   "outputs": [],
   "source": [
    "train = read_and_pos('wnut17train.conll')\n",
    "test = read_and_pos('emerging.test.annotated')\n",
    "dev = read_and_pos('emerging.dev.conll')"
   ]
  },
  {
   "cell_type": "code",
   "execution_count": 12,
   "metadata": {},
   "outputs": [],
   "source": [
    "def get_features(word):\n",
    "    word=word.lower()\n",
    "    try:\n",
    "         vector=model1[word]\n",
    "    except:\n",
    "        # if the word is not in vocabulary,\n",
    "        # returns zeros array\n",
    "        vector=np.zeros(300,)\n",
    "\n",
    "    return vector   "
   ]
  },
  {
   "cell_type": "code",
   "execution_count": 13,
   "metadata": {},
   "outputs": [],
   "source": [
    "def word2features(sent, i):\n",
    "    word = sent[i][0]\n",
    "    postag = sent[i][1]\n",
    "    wordembdding=get_features(word)\n",
    "\n",
    "    features = {\n",
    "        'bias': 1.0,\n",
    "        'word.lower()': word.lower(),\n",
    "        'word[-3:]': word[-3:],\n",
    "        'word[-2:]': word[-2:],\n",
    "        'word.isupper()': word.isupper(),\n",
    "        'word.istitle()': word.istitle(),\n",
    "        'word.isdigit()': word.isdigit(),\n",
    "        # 'wordlength': len(word),                                      #newfeature\n",
    "        # 'wordmixedcap': len([x for x in word[1:] if x.isupper()])>0,  #newfeature\n",
    "        # 'wordallcap': len([x for x in word if x.isupper()])==len(word), #newfeature\n",
    "        'postag': postag,\n",
    "        'postag[:2]': postag[:2],\n",
    "        # 'distfromsentbegin': i         #newfeature\n",
    "    }\n",
    "    # here you add 300 features (one for each vector component)\n",
    "    for iv,value in enumerate(wordembdding):\n",
    "        features['v{}'.format(iv)]=value\n",
    "        \n",
    "    if i > 0:\n",
    "        word1 = sent[i-1][0]\n",
    "        postag1 = sent[i-1][1]\n",
    "        features.update({\n",
    "            '-1:word.lower()': word1.lower(),\n",
    "            '-1:word.istitle()': word1.istitle(),\n",
    "            '-1:word.isupper()': word1.isupper(),\n",
    "            # '-1:wordlength': len(word1),\n",
    "            # '-1:wordmixedcap': len([x for x in word1[1:] if x.isupper()])>0, \n",
    "            # '-1:wordallcap': len([x for x in word if x.isupper()])==len(word),\n",
    "            '-1:postag': postag1,\n",
    "            '-1:postag[:2]': postag1[:2],\n",
    "        })\n",
    "    else:\n",
    "        features['BOS'] = True\n",
    "\n",
    "    if i < len(sent)-1:\n",
    "        word1 = sent[i+1][0]\n",
    "        postag1 = sent[i+1][1]\n",
    "        features.update({\n",
    "            '+1:word.lower()': word1.lower(),\n",
    "            '+1:word.istitle()': word1.istitle(),\n",
    "            '+1:word.isupper()': word1.isupper(),\n",
    "            # '+1:wordlength': len(word1),\n",
    "            # '+1:wordmixedcap': len([x for x in word1[1:] if x.isupper()])>0,\n",
    "            # '+1:wordallcap': len([x for x in word if x.isupper()])==len(word),\n",
    "            '+1:postag': postag1,\n",
    "            '+1:postag[:2]': postag1[:2],\n",
    "        })\n",
    "    else:\n",
    "        features['EOS'] = True\n",
    "\n",
    "    return features\n",
    "\n",
    "\n",
    "def sent2features(sent):\n",
    "    return [word2features(sent, i) for i in range(len(sent))]\n",
    "\n",
    "def sent2labels(sent):\n",
    "    return [label for token, postag, label in sent]\n",
    "\n",
    "def sent2tokens(sent):\n",
    "    return [token for token, postag, label in sent]"
   ]
  },
  {
   "cell_type": "code",
   "execution_count": 14,
   "metadata": {},
   "outputs": [
    {
     "name": "stdout",
     "output_type": "stream",
     "text": [
      "CPU times: total: 38.8 s\n",
      "Wall time: 45.1 s\n"
     ]
    }
   ],
   "source": [
    "%%time\n",
    "X_train = [sent2features(s) for s in train]\n",
    "y_train = [sent2labels(s) for s in train]\n",
    "\n",
    "X_dev = [sent2features(s) for s in dev]\n",
    "y_dev = [sent2labels(s) for s in dev]\n",
    "\n",
    "X_test = [sent2features(s) for s in test]\n",
    "y_test = [sent2labels(s) for s in test]"
   ]
  },
  {
   "cell_type": "code",
   "execution_count": 15,
   "metadata": {},
   "outputs": [
    {
     "name": "stdout",
     "output_type": "stream",
     "text": [
      "CPU times: total: 1min 29s\n",
      "Wall time: 1min 33s\n"
     ]
    },
    {
     "data": {
      "text/plain": [
       "CRF(algorithm='lbfgs', all_possible_states=None, all_possible_transitions=True,\n",
       "    averaging=None, c=None, c1=0.1, c2=0.1, calibration_candidates=None,\n",
       "    calibration_eta=None, calibration_max_trials=None, calibration_rate=None,\n",
       "    calibration_samples=None, delta=None, epsilon=None, error_sensitive=None,\n",
       "    gamma=None, keep_tempfiles=None, linesearch=None, max_iterations=100,\n",
       "    max_linesearch=None, min_freq=None, model_filename=None, num_memories=None,\n",
       "    pa_type=None, period=None, trainer_cls=None, variance=None, verbose=False)"
      ]
     },
     "execution_count": 15,
     "metadata": {},
     "output_type": "execute_result"
    }
   ],
   "source": [
    "%%time\n",
    "crf = sklearn_crfsuite.CRF(\n",
    "    algorithm='lbfgs',\n",
    "    c1=0.1,\n",
    "    c2=0.1,\n",
    "    max_iterations=100,\n",
    "    all_possible_transitions=True\n",
    ")\n",
    "crf.fit(X_train, y_train)"
   ]
  },
  {
   "cell_type": "code",
   "execution_count": 16,
   "metadata": {},
   "outputs": [
    {
     "data": {
      "text/plain": [
       "['B-location',\n",
       " 'I-location',\n",
       " 'B-group',\n",
       " 'B-corporation',\n",
       " 'B-person',\n",
       " 'B-creative-work',\n",
       " 'B-product',\n",
       " 'I-person',\n",
       " 'I-creative-work',\n",
       " 'I-corporation',\n",
       " 'I-group',\n",
       " 'I-product']"
      ]
     },
     "execution_count": 16,
     "metadata": {},
     "output_type": "execute_result"
    }
   ],
   "source": [
    "labels = list(crf.classes_)\n",
    "labels.remove('O')\n",
    "labels"
   ]
  },
  {
   "cell_type": "code",
   "execution_count": 12,
   "metadata": {},
   "outputs": [
    {
     "data": {
      "text/plain": [
       "0.22067725811851222"
      ]
     },
     "execution_count": 12,
     "metadata": {},
     "output_type": "execute_result"
    }
   ],
   "source": [
    "y_pred = crf.predict(X_test)\n",
    "metrics.flat_f1_score(y_test, y_pred,\n",
    "                      average='weighted', labels=labels)"
   ]
  },
  {
   "cell_type": "code",
   "execution_count": 23,
   "metadata": {},
   "outputs": [
    {
     "name": "stdout",
     "output_type": "stream",
     "text": [
      "                 precision    recall  f1-score   support\n",
      "\n",
      "  B-corporation      0.200     0.015     0.028        66\n",
      "  I-corporation      0.000     0.000     0.000        22\n",
      "B-creative-work      0.202     0.134     0.161       142\n",
      "I-creative-work      0.254     0.326     0.286       218\n",
      "        B-group      0.250     0.006     0.012       165\n",
      "        I-group      1.000     0.043     0.082        70\n",
      "     B-location      0.487     0.260     0.339       150\n",
      "     I-location      0.394     0.138     0.205        94\n",
      "       B-person      0.463     0.487     0.475       429\n",
      "       I-person      0.413     0.542     0.469       131\n",
      "      B-product      0.238     0.118     0.158       127\n",
      "      I-product      0.273     0.214     0.240       126\n",
      "\n",
      "      micro avg      0.365     0.270     0.310      1740\n",
      "      macro avg      0.348     0.190     0.205      1740\n",
      "   weighted avg      0.366     0.270     0.276      1740\n",
      "\n"
     ]
    }
   ],
   "source": [
    "# group B and I results\n",
    "sorted_labels = sorted(\n",
    "    labels,\n",
    "    key=lambda name: (name[1:], name[0])\n",
    ")\n",
    "print(metrics.flat_classification_report(\n",
    "    y_test, y_pred, labels=sorted_labels, digits=3\n",
    "))"
   ]
  },
  {
   "cell_type": "markdown",
   "metadata": {},
   "source": [
    "Hyperparameter Optimization\n"
   ]
  },
  {
   "cell_type": "code",
   "execution_count": 17,
   "metadata": {},
   "outputs": [
    {
     "name": "stdout",
     "output_type": "stream",
     "text": [
      "Fitting 3 folds for each of 50 candidates, totalling 150 fits\n"
     ]
    },
    {
     "name": "stderr",
     "output_type": "stream",
     "text": [
      "[Parallel(n_jobs=-1)]: Using backend LokyBackend with 4 concurrent workers.\n",
      "[Parallel(n_jobs=-1)]: Done  42 tasks      | elapsed: 32.9min\n",
      "[Parallel(n_jobs=-1)]: Done 150 out of 150 | elapsed: 89.3min finished\n"
     ]
    },
    {
     "name": "stdout",
     "output_type": "stream",
     "text": [
      "CPU times: total: 1h 20min 48s\n",
      "Wall time: 1h 29min 40s\n"
     ]
    },
    {
     "data": {
      "text/plain": [
       "RandomizedSearchCV(cv=3, error_score=nan,\n",
       "                   estimator=CRF(algorithm='lbfgs', all_possible_states=None,\n",
       "                                 all_possible_transitions=True, averaging=None,\n",
       "                                 c=None, c1=None, c2=None,\n",
       "                                 calibration_candidates=None,\n",
       "                                 calibration_eta=None,\n",
       "                                 calibration_max_trials=None,\n",
       "                                 calibration_rate=None,\n",
       "                                 calibration_samples=None, delta=None,\n",
       "                                 epsilon=None, error_sensitive=None, gamma=None,\n",
       "                                 keep_...\n",
       "                                        'c2': <scipy.stats._distn_infrastructure.rv_continuous_frozen object at 0x000001ED2006CFD0>},\n",
       "                   pre_dispatch='2*n_jobs', random_state=None, refit=True,\n",
       "                   return_train_score=False,\n",
       "                   scoring=make_scorer(flat_f1_score, average=weighted, labels=['B-location', 'I-location', 'B-group', 'B-corporation', 'B-person', 'B-creative-work', 'B-product', 'I-person', 'I-creative-work', 'I-corporation', 'I-group', 'I-product']),\n",
       "                   verbose=1)"
      ]
     },
     "execution_count": 17,
     "metadata": {},
     "output_type": "execute_result"
    }
   ],
   "source": [
    "%%time\n",
    "# define fixed parameters and parameters to search\n",
    "crf = sklearn_crfsuite.CRF(\n",
    "    algorithm='lbfgs',\n",
    "    max_iterations=100,\n",
    "    all_possible_transitions=True,\n",
    ")\n",
    "params_space = {\n",
    "    'c1': scipy.stats.expon(scale=0.5),\n",
    "    'c2': scipy.stats.expon(scale=0.05),\n",
    "}\n",
    "\n",
    "# use the same metric for evaluation\n",
    "f1_scorer = make_scorer(metrics.flat_f1_score,\n",
    "                        average='weighted', labels=labels)\n",
    "\n",
    "# search\n",
    "rs = RandomizedSearchCV(crf, params_space,\n",
    "                        cv=3,\n",
    "                        verbose=1,\n",
    "                        n_jobs=-1,\n",
    "                        n_iter=50,\n",
    "                        scoring=f1_scorer)\n",
    "rs.fit(X_dev, y_dev)"
   ]
  },
  {
   "cell_type": "code",
   "execution_count": 18,
   "metadata": {},
   "outputs": [
    {
     "name": "stdout",
     "output_type": "stream",
     "text": [
      "best params: {'c1': 0.009666113759206004, 'c2': 0.11659534923436046}\n",
      "best CV score: 0.44275933552697117\n",
      "model size: 0.66M\n"
     ]
    }
   ],
   "source": [
    "# crf = rs.best_estimator_\n",
    "print('best params:', rs.best_params_)\n",
    "print('best CV score:', rs.best_score_)\n",
    "print('model size: {:0.2f}M'.format(rs.best_estimator_.size_ / 1000000))"
   ]
  },
  {
   "cell_type": "code",
   "execution_count": 21,
   "metadata": {},
   "outputs": [
    {
     "name": "stdout",
     "output_type": "stream",
     "text": [
      "Dark blue => 0.3817, dark red => 0.4428\n"
     ]
    },
    {
     "data": {
      "image/png": "[encoded data removed]",
      "text/plain": [
       "<Figure size 1200x1200 with 1 Axes>"
      ]
     },
     "metadata": {},
     "output_type": "display_data"
    }
   ],
   "source": [
    "_x = [s['c1'] for s in rs.cv_results_['params']]\n",
    "_y = [s['c2'] for s in rs.cv_results_['params']]\n",
    "_c = [s for s in rs.cv_results_['mean_test_score']]\n",
    "\n",
    "fig = plt.figure()\n",
    "fig.set_size_inches(12, 12)\n",
    "ax = plt.gca()\n",
    "ax.set_yscale('log')\n",
    "ax.set_xscale('log')\n",
    "ax.set_xlabel('C1')\n",
    "ax.set_ylabel('C2')\n",
    "ax.set_title(\"Randomized Hyperparameter Search CV Results (min={:0.3}, max={:0.3})\".format(\n",
    "    min(_c), max(_c)\n",
    "))\n",
    "\n",
    "ax.scatter(_x, _y, c=_c, s=60, alpha=0.9, edgecolors=[0,0,0])\n",
    "\n",
    "print(\"Dark blue => {:0.4}, dark red => {:0.4}\".format(min(_c), max(_c)))"
   ]
  },
  {
   "cell_type": "code",
   "execution_count": 24,
   "metadata": {},
   "outputs": [
    {
     "name": "stdout",
     "output_type": "stream",
     "text": [
      "                 precision    recall  f1-score   support\n",
      "\n",
      "  B-corporation      0.200     0.015     0.028        66\n",
      "  I-corporation      0.000     0.000     0.000        22\n",
      "B-creative-work      0.202     0.134     0.161       142\n",
      "I-creative-work      0.254     0.326     0.286       218\n",
      "        B-group      0.250     0.006     0.012       165\n",
      "        I-group      1.000     0.043     0.082        70\n",
      "     B-location      0.487     0.260     0.339       150\n",
      "     I-location      0.394     0.138     0.205        94\n",
      "       B-person      0.463     0.487     0.475       429\n",
      "       I-person      0.413     0.542     0.469       131\n",
      "      B-product      0.238     0.118     0.158       127\n",
      "      I-product      0.273     0.214     0.240       126\n",
      "\n",
      "      micro avg      0.365     0.270     0.310      1740\n",
      "      macro avg      0.348     0.190     0.205      1740\n",
      "   weighted avg      0.366     0.270     0.276      1740\n",
      "\n"
     ]
    }
   ],
   "source": [
    "crf = rs.best_estimator_\n",
    "y_pred = crf.predict(X_test)\n",
    "print(metrics.flat_classification_report(\n",
    "    y_test, y_pred, labels=sorted_labels, digits=3\n",
    "))"
   ]
  },
  {
   "cell_type": "code",
   "execution_count": 25,
   "metadata": {},
   "outputs": [
    {
     "name": "stdout",
     "output_type": "stream",
     "text": [
      "Top likely transitions:\n",
      "B-creative-work -> I-creative-work 4.850141\n",
      "B-person -> I-person 4.617760\n",
      "B-product -> I-product 4.452631\n",
      "I-creative-work -> I-creative-work 4.326294\n",
      "B-location -> I-location 3.884684\n",
      "I-product -> I-product 3.801652\n",
      "B-group -> I-group 3.743998\n",
      "I-person -> I-person 3.355682\n",
      "I-group -> I-group 3.351810\n",
      "I-location -> I-location 3.239809\n",
      "B-corporation -> I-corporation 3.195662\n",
      "O      -> O       2.730236\n",
      "I-corporation -> I-corporation 2.370686\n",
      "O      -> B-person 1.615362\n",
      "B-corporation -> B-corporation 1.343057\n",
      "O      -> B-product 1.269577\n",
      "O      -> B-group 1.252764\n",
      "O      -> B-location 0.951196\n",
      "O      -> B-creative-work 0.749748\n",
      "B-person -> O       0.680780\n",
      "\n",
      "Top unlikely transitions:\n",
      "I-product -> B-product -0.653020\n",
      "I-person -> I-creative-work -0.654438\n",
      "B-product -> O       -0.667133\n",
      "B-group -> O       -0.681118\n",
      "B-product -> I-creative-work -0.713328\n",
      "B-creative-work -> B-person -0.774237\n",
      "B-location -> B-person -0.828588\n",
      "B-product -> B-person -0.839786\n",
      "I-group -> O       -0.850846\n",
      "B-person -> I-product -0.889605\n",
      "I-person -> B-person -0.917839\n",
      "B-person -> I-corporation -0.951600\n",
      "B-person -> I-creative-work -1.099533\n",
      "I-creative-work -> B-person -1.187044\n",
      "O      -> I-corporation -1.750754\n",
      "O      -> I-location -2.308624\n",
      "O      -> I-group -2.432840\n",
      "O      -> I-product -2.525142\n",
      "O      -> I-person -2.808011\n",
      "O      -> I-creative-work -3.078831\n"
     ]
    }
   ],
   "source": [
    "from collections import Counter\n",
    "\n",
    "def print_transitions(trans_features):\n",
    "    for (label_from, label_to), weight in trans_features:\n",
    "        print(\"%-6s -> %-7s %0.6f\" % (label_from, label_to, weight))\n",
    "\n",
    "print(\"Top likely transitions:\")\n",
    "print_transitions(Counter(crf.transition_features_).most_common(20))\n",
    "\n",
    "print(\"\\nTop unlikely transitions:\")\n",
    "print_transitions(Counter(crf.transition_features_).most_common()[-20:])"
   ]
  },
  {
   "cell_type": "code",
   "execution_count": 26,
   "metadata": {},
   "outputs": [
    {
     "name": "stdout",
     "output_type": "stream",
     "text": [
      "Top positive:\n",
      "3.318099 O        v77\n",
      "3.213353 O        BOS\n",
      "2.680138 O        bias\n",
      "2.673550 B-person BOS\n",
      "2.384798 O        +1:word.lower():dem\n",
      "2.303538 B-group  +1:word.lower():fan\n",
      "2.291860 B-location -1:word.lower():in\n",
      "2.159461 O        v67\n",
      "2.104256 B-person word.lower():kendrick\n",
      "2.074948 O        EOS\n",
      "2.035753 O        v21\n",
      "2.027413 I-person -1:word.lower():efron\n",
      "2.008041 I-person +1:word.lower():face\n",
      "1.968381 O        v224\n",
      "1.966548 O        v213\n",
      "1.947575 B-creative-work -1:word.lower():from\n",
      "1.929953 B-person word.lower():sterling\n",
      "1.920429 B-corporation word.lower():spacex\n",
      "1.914694 B-person v60\n",
      "1.883331 B-corporation +1:word.lower():clinton\n",
      "1.865612 B-person v85\n",
      "1.820677 B-group  +1:word.lower():tried\n",
      "1.808877 B-corporation word[-2:]:vo\n",
      "1.768542 B-person v86\n",
      "1.766502 B-location word.lower():britian\n",
      "1.727017 B-person v95\n",
      "1.696336 B-person v268\n",
      "1.681350 O        v238\n",
      "1.669246 B-person word.lower():cattle\n",
      "1.666132 B-group  word.lower():daish\n",
      "\n",
      "Top negative:\n",
      "-1.151135 B-person word.lower():rick\n",
      "-1.152363 O        word[-3:]:ger\n",
      "-1.178286 O        word[-3:]:ick\n",
      "-1.181742 O        v162\n",
      "-1.207202 B-product v240\n",
      "-1.211311 O        word[-2:]:na\n",
      "-1.215644 O        word[-2:]:oy\n",
      "-1.224132 B-person v188\n",
      "-1.255416 O        word[-3:]:ods\n",
      "-1.268353 O        -1:word.lower():from\n",
      "-1.271219 O        +1:word.lower():for\n",
      "-1.276509 O        word[-3:]:aft\n",
      "-1.282732 O        -1:word.lower():thanks\n",
      "-1.297625 B-creative-work v39\n",
      "-1.299194 B-person -1:word.lower():the\n",
      "-1.329027 O        v144\n",
      "-1.368667 O        word[-2:]:mp\n",
      "-1.383063 O        word[-2:]:be\n",
      "-1.400019 O        word[-2:]:ni\n",
      "-1.404490 B-person v108\n",
      "-1.430833 O        word[-2:]:vo\n",
      "-1.482398 O        v18\n",
      "-1.505929 O        word[-2:]:ro\n",
      "-1.523898 O        postag:NNP\n",
      "-1.555052 O        word[-2:]:EN\n",
      "-1.597480 O        word[-2:]:ds\n",
      "-1.616391 O        -1:word.lower():party\n",
      "-1.767013 O        word.istitle()\n",
      "-1.785209 O        +1:word.lower():fan\n",
      "-1.817814 O        +1:word.lower():tried\n"
     ]
    }
   ],
   "source": [
    "def print_state_features(state_features):\n",
    "    for (attr, label), weight in state_features:\n",
    "        print(\"%0.6f %-8s %s\" % (weight, label, attr))\n",
    "\n",
    "print(\"Top positive:\")\n",
    "print_state_features(Counter(crf.state_features_).most_common(30))\n",
    "\n",
    "print(\"\\nTop negative:\")\n",
    "print_state_features(Counter(crf.state_features_).most_common()[-30:])"
   ]
  }
 ],
 "metadata": {
  "kernelspec": {
   "display_name": "Python 3.8.8 ('test')",
   "language": "python",
   "name": "python3"
  },
  "language_info": {
   "codemirror_mode": {
    "name": "ipython",
    "version": 3
   },
   "file_extension": ".py",
   "mimetype": "text/x-python",
   "name": "python",
   "nbconvert_exporter": "python",
   "pygments_lexer": "ipython3",
   "version": "3.8.13"
  },
  "orig_nbformat": 4,
  "vscode": {
   "interpreter": {
    "hash": "0cb112d37eb20a010e3ee565677e60a5d9163b6300b9d1c55520045e8455bba4"
   }
  }
 },
 "nbformat": 4,
 "nbformat_minor": 2
}
