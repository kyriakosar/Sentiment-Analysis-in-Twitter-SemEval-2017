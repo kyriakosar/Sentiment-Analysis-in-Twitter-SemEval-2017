{
 "cells": [
  {
   "cell_type": "markdown",
   "metadata": {},
   "source": [
    "https://medium.com/analytics-vidhya/bio-tagged-text-to-original-text-99b05da6664\n",
    "\n",
    "https://www.programcreek.com/python/?CodeExample=read+conll\n",
    "\n",
    "https://applied-language-technology.mooc.fi/html/notebooks/part_iii/06_text_linguistics.html#interacting-with-conll-u-annotations-in-python\n",
    "\n",
    "https://www.nltk.org/api/nltk.tag.html\n",
    "\n",
    "\n",
    "https://stackoverflow.com/questions/58736548/how-to-use-word-embedding-as-features-for-crf-sklearn-crfsuite-model-training"
   ]
  },
  {
   "cell_type": "code",
   "execution_count": 1,
   "metadata": {},
   "outputs": [],
   "source": [
    "%matplotlib inline\n",
    "import matplotlib.pyplot as plt\n",
    "plt.style.use('ggplot')"
   ]
  },
  {
   "cell_type": "code",
   "execution_count": 2,
   "metadata": {},
   "outputs": [
    {
     "name": "stderr",
     "output_type": "stream",
     "text": [
      "C:\\Users\\KYRIAKOS ARISTIDOU\\AppData\\Roaming\\Python\\Python38\\site-packages\\tqdm\\auto.py:22: TqdmWarning: IProgress not found. Please update jupyter and ipywidgets. See https://ipywidgets.readthedocs.io/en/stable/user_install.html\n",
      "  from .autonotebook import tqdm as notebook_tqdm\n",
      "[nltk_data] Downloading package averaged_perceptron_tagger to\n",
      "[nltk_data]     C:\\Users\\KYRIAKOS\n",
      "[nltk_data]     ARISTIDOU\\AppData\\Roaming\\nltk_data...\n",
      "[nltk_data]   Package averaged_perceptron_tagger is already up-to-\n",
      "[nltk_data]       date!\n"
     ]
    },
    {
     "data": {
      "text/plain": [
       "True"
      ]
     },
     "execution_count": 2,
     "metadata": {},
     "output_type": "execute_result"
    }
   ],
   "source": [
    "from itertools import chain\n",
    "\n",
    "import nltk\n",
    "import sklearn\n",
    "import scipy.stats\n",
    "from sklearn.metrics import make_scorer\n",
    "from sklearn.model_selection import cross_val_score\n",
    "from sklearn.model_selection import RandomizedSearchCV\n",
    "\n",
    "import sklearn_crfsuite\n",
    "from sklearn_crfsuite import scorers\n",
    "from sklearn_crfsuite import metrics\n",
    "import conllu\n",
    "import pyconll \n",
    "import spacy\n",
    "from nltk import pos_tag\n",
    "nltk.download('averaged_perceptron_tagger') #for pos_tags\n"
   ]
  },
  {
   "cell_type": "code",
   "execution_count": 3,
   "metadata": {},
   "outputs": [],
   "source": [
    "def read_and_pos(filename):\n",
    "  words,biotags = [],[]\n",
    "  result = []\n",
    "  with open(filename,encoding=\"utf8\") as file:\n",
    "    for line in file:\n",
    "      w = line.strip().split('\\t')\n",
    "      if len(w) > 1:\n",
    "        words.append(w[0])\n",
    "        biotags.append(w[1])\n",
    "      else:\n",
    "        pos_tags = [pos for token, pos in pos_tag(words)]\n",
    "        finaltags = [(token, pos, tg) for token, pos, tg in zip(words, pos_tags, biotags)]\n",
    "        result.append(finaltags)\n",
    "        words,biotags,pos_tags,finaltags = [],[],[],[]\n",
    "        continue\n",
    "\n",
    "  return result \n",
    "\n",
    " \n"
   ]
  },
  {
   "cell_type": "code",
   "execution_count": 4,
   "metadata": {},
   "outputs": [],
   "source": [
    "train = read_and_pos('wnut17train.conll')\n",
    "test = read_and_pos('emerging.test.annotated')\n",
    "dev = read_and_pos('emerging.dev.conll')"
   ]
  },
  {
   "cell_type": "code",
   "execution_count": 33,
   "metadata": {},
   "outputs": [],
   "source": [
    "def word2features(sent, i):\n",
    "    word = sent[i][0]\n",
    "    postag = sent[i][1]\n",
    "\n",
    "    features = {\n",
    "        'bias': 1.0,\n",
    "        'word.lower()': word.lower(),\n",
    "        'word[-3:]': word[-3:],\n",
    "        'word[-2:]': word[-2:],\n",
    "        'word.isupper()': word.isupper(),\n",
    "        'word.istitle()': word.istitle(),\n",
    "        'word.isdigit()': word.isdigit(),\n",
    "        # 'wordlength': len(word),                                      #newfeature\n",
    "        # 'wordmixedcap': len([x for x in word[1:] if x.isupper()])>0,  #newfeature\n",
    "        # 'wordallcap': len([x for x in word if x.isupper()])==len(word), #newfeature\n",
    "        'postag': postag,\n",
    "        'postag[:2]': postag[:2],\n",
    "        # 'distfromsentbegin': i         #newfeature\n",
    "    }\n",
    "    if i > 0:\n",
    "        word1 = sent[i-1][0]\n",
    "        postag1 = sent[i-1][1]\n",
    "        features.update({\n",
    "            '-1:word.lower()': word1.lower(),\n",
    "            '-1:word.istitle()': word1.istitle(),\n",
    "            '-1:word.isupper()': word1.isupper(),\n",
    "            # '-1:wordlength': len(word1),\n",
    "            # '-1:wordmixedcap': len([x for x in word1[1:] if x.isupper()])>0, \n",
    "            # '-1:wordallcap': len([x for x in word if x.isupper()])==len(word),\n",
    "            '-1:postag': postag1,\n",
    "            '-1:postag[:2]': postag1[:2],\n",
    "        })\n",
    "    else:\n",
    "        features['BOS'] = True\n",
    "\n",
    "    if i < len(sent)-1:\n",
    "        word1 = sent[i+1][0]\n",
    "        postag1 = sent[i+1][1]\n",
    "        features.update({\n",
    "            '+1:word.lower()': word1.lower(),\n",
    "            '+1:word.istitle()': word1.istitle(),\n",
    "            '+1:word.isupper()': word1.isupper(),\n",
    "            # '+1:wordlength': len(word1),\n",
    "            # '+1:wordmixedcap': len([x for x in word1[1:] if x.isupper()])>0,\n",
    "            # '+1:wordallcap': len([x for x in word if x.isupper()])==len(word),\n",
    "            '+1:postag': postag1,\n",
    "            '+1:postag[:2]': postag1[:2],\n",
    "        })\n",
    "    else:\n",
    "        features['EOS'] = True\n",
    "\n",
    "    return features\n",
    "\n",
    "\n",
    "def sent2features(sent):\n",
    "    return [word2features(sent, i) for i in range(len(sent))]\n",
    "\n",
    "def sent2labels(sent):\n",
    "    return [label for token, postag, label in sent]\n",
    "\n",
    "def sent2tokens(sent):\n",
    "    return [token for token, postag, label in sent]"
   ]
  },
  {
   "cell_type": "code",
   "execution_count": 29,
   "metadata": {},
   "outputs": [
    {
     "name": "stdout",
     "output_type": "stream",
     "text": [
      "CPU times: total: 672 ms\n",
      "Wall time: 949 ms\n"
     ]
    }
   ],
   "source": [
    "%%time\n",
    "X_train = [sent2features(s) for s in train]\n",
    "y_train = [sent2labels(s) for s in train]\n",
    "\n",
    "X_dev = [sent2features(s) for s in dev]\n",
    "y_dev = [sent2labels(s) for s in dev]\n",
    "\n",
    "X_test = [sent2features(s) for s in test]\n",
    "y_test = [sent2labels(s) for s in test]"
   ]
  },
  {
   "cell_type": "code",
   "execution_count": 30,
   "metadata": {},
   "outputs": [
    {
     "name": "stdout",
     "output_type": "stream",
     "text": [
      "CPU times: total: 19 s\n",
      "Wall time: 25.4 s\n"
     ]
    },
    {
     "data": {
      "text/plain": [
       "CRF(algorithm='lbfgs', all_possible_states=None, all_possible_transitions=True,\n",
       "    averaging=None, c=None, c1=0.1, c2=0.1, calibration_candidates=None,\n",
       "    calibration_eta=None, calibration_max_trials=None, calibration_rate=None,\n",
       "    calibration_samples=None, delta=None, epsilon=None, error_sensitive=None,\n",
       "    gamma=None, keep_tempfiles=None, linesearch=None, max_iterations=100,\n",
       "    max_linesearch=None, min_freq=None, model_filename=None, num_memories=None,\n",
       "    pa_type=None, period=None, trainer_cls=None, variance=None, verbose=False)"
      ]
     },
     "execution_count": 30,
     "metadata": {},
     "output_type": "execute_result"
    }
   ],
   "source": [
    "%%time\n",
    "crf = sklearn_crfsuite.CRF(\n",
    "    algorithm='lbfgs',\n",
    "    c1=0.1,\n",
    "    c2=0.1,\n",
    "    max_iterations=100,\n",
    "    all_possible_transitions=True\n",
    ")\n",
    "crf.fit(X_train, y_train)"
   ]
  },
  {
   "cell_type": "code",
   "execution_count": 31,
   "metadata": {},
   "outputs": [
    {
     "data": {
      "text/plain": [
       "['B-location',\n",
       " 'I-location',\n",
       " 'B-group',\n",
       " 'B-corporation',\n",
       " 'B-person',\n",
       " 'B-creative-work',\n",
       " 'B-product',\n",
       " 'I-person',\n",
       " 'I-creative-work',\n",
       " 'I-corporation',\n",
       " 'I-group',\n",
       " 'I-product']"
      ]
     },
     "execution_count": 31,
     "metadata": {},
     "output_type": "execute_result"
    }
   ],
   "source": [
    "labels = list(crf.classes_)\n",
    "labels.remove('O')\n",
    "labels"
   ]
  },
  {
   "cell_type": "code",
   "execution_count": 32,
   "metadata": {},
   "outputs": [
    {
     "data": {
      "text/plain": [
       "0.14220916330790342"
      ]
     },
     "execution_count": 32,
     "metadata": {},
     "output_type": "execute_result"
    }
   ],
   "source": [
    "y_pred = crf.predict(X_test)\n",
    "metrics.flat_f1_score(y_test, y_pred,\n",
    "                      average='weighted', labels=labels)"
   ]
  },
  {
   "cell_type": "code",
   "execution_count": 11,
   "metadata": {},
   "outputs": [
    {
     "name": "stdout",
     "output_type": "stream",
     "text": [
      "                 precision    recall  f1-score   support\n",
      "\n",
      "  B-corporation      0.000     0.000     0.000        66\n",
      "  I-corporation      0.000     0.000     0.000        22\n",
      "B-creative-work      0.333     0.035     0.064       142\n",
      "I-creative-work      0.296     0.037     0.065       218\n",
      "        B-group      0.300     0.036     0.065       165\n",
      "        I-group      0.357     0.071     0.119        70\n",
      "     B-location      0.385     0.233     0.290       150\n",
      "     I-location      0.231     0.064     0.100        94\n",
      "       B-person      0.551     0.138     0.220       429\n",
      "       I-person      0.547     0.221     0.315       131\n",
      "      B-product      0.600     0.024     0.045       127\n",
      "      I-product      0.375     0.048     0.085       126\n",
      "\n",
      "      micro avg      0.430     0.093     0.153      1740\n",
      "      macro avg      0.331     0.076     0.114      1740\n",
      "   weighted avg      0.401     0.093     0.142      1740\n",
      "\n"
     ]
    }
   ],
   "source": [
    "# group B and I results\n",
    "sorted_labels = sorted(\n",
    "    labels,\n",
    "    key=lambda name: (name[1:], name[0])\n",
    ")\n",
    "print(metrics.flat_classification_report(\n",
    "    y_test, y_pred, labels=sorted_labels, digits=3\n",
    "))"
   ]
  },
  {
   "cell_type": "markdown",
   "metadata": {},
   "source": [
    "Hyperparameter Optimization\n"
   ]
  },
  {
   "cell_type": "code",
   "execution_count": 30,
   "metadata": {},
   "outputs": [
    {
     "name": "stdout",
     "output_type": "stream",
     "text": [
      "Fitting 3 folds for each of 50 candidates, totalling 150 fits\n"
     ]
    },
    {
     "name": "stderr",
     "output_type": "stream",
     "text": [
      "[Parallel(n_jobs=-1)]: Using backend LokyBackend with 4 concurrent workers.\n",
      "[Parallel(n_jobs=-1)]: Done  42 tasks      | elapsed:  5.9min\n",
      "[Parallel(n_jobs=-1)]: Done 150 out of 150 | elapsed: 18.7min finished\n"
     ]
    },
    {
     "name": "stdout",
     "output_type": "stream",
     "text": [
      "CPU times: total: 1min 40s\n",
      "Wall time: 19min 18s\n"
     ]
    },
    {
     "data": {
      "text/plain": [
       "RandomizedSearchCV(cv=3, error_score=nan,\n",
       "                   estimator=CRF(algorithm='lbfgs', all_possible_states=None,\n",
       "                                 all_possible_transitions=True, averaging=None,\n",
       "                                 c=None, c1=None, c2=None,\n",
       "                                 calibration_candidates=None,\n",
       "                                 calibration_eta=None,\n",
       "                                 calibration_max_trials=None,\n",
       "                                 calibration_rate=None,\n",
       "                                 calibration_samples=None, delta=None,\n",
       "                                 epsilon=1e-05, error_sensitive=None,\n",
       "                                 gamma=None, keep...\n",
       "                                        'c2': <scipy.stats._distn_infrastructure.rv_continuous_frozen object at 0x00000283060E47F0>},\n",
       "                   pre_dispatch='2*n_jobs', random_state=None, refit=True,\n",
       "                   return_train_score=False,\n",
       "                   scoring=make_scorer(flat_f1_score, average=weighted, labels=['B-location', 'I-location', 'B-group', 'B-corporation', 'B-person', 'B-creative-work', 'B-product', 'I-person', 'I-creative-work', 'I-corporation', 'I-group', 'I-product']),\n",
       "                   verbose=1)"
      ]
     },
     "execution_count": 30,
     "metadata": {},
     "output_type": "execute_result"
    }
   ],
   "source": [
    "%%time\n",
    "# define fixed parameters and parameters to search\n",
    "crf = sklearn_crfsuite.CRF(\n",
    "    algorithm='lbfgs',\n",
    "    max_iterations=100,\n",
    "    all_possible_transitions=True,\n",
    "    epsilon  = 1e-5\n",
    ")\n",
    "params_space = {\n",
    "    'c1': scipy.stats.expon(scale=0.5),\n",
    "    'c2': scipy.stats.expon(scale=0.05),\n",
    "}\n",
    "\n",
    "# use the same metric for evaluation\n",
    "f1_scorer = make_scorer(metrics.flat_f1_score,\n",
    "                        average='weighted', labels=labels)\n",
    "\n",
    "# search\n",
    "rs = RandomizedSearchCV(crf, params_space,\n",
    "                        cv=3,\n",
    "                        verbose=1,\n",
    "                        n_jobs=-1,\n",
    "                        n_iter=50,\n",
    "                        scoring=f1_scorer)\n",
    "rs.fit(X_train, y_train)"
   ]
  },
  {
   "cell_type": "code",
   "execution_count": 24,
   "metadata": {},
   "outputs": [
    {
     "name": "stdout",
     "output_type": "stream",
     "text": [
      "best params: {'c1': 0.0035238036113941795, 'c2': 0.048096808893646446}\n",
      "best CV score: 0.39083848563387774\n",
      "model size: 1.76M\n"
     ]
    }
   ],
   "source": [
    "# crf = rs.best_estimator_\n",
    "print('best params:', rs.best_params_)\n",
    "print('best CV score:', rs.best_score_)\n",
    "print('model size: {:0.2f}M'.format(rs.best_estimator_.size_ / 1000000))"
   ]
  },
  {
   "cell_type": "code",
   "execution_count": 25,
   "metadata": {},
   "outputs": [
    {
     "name": "stdout",
     "output_type": "stream",
     "text": [
      "Dark blue => 0.3, dark red => 0.3908\n"
     ]
    },
    {
     "data": {
      "image/png": "[encoded data removed]",
      "text/plain": [
       "<Figure size 1200x1200 with 1 Axes>"
      ]
     },
     "metadata": {},
     "output_type": "display_data"
    }
   ],
   "source": [
    "_x = [s['c1'] for s in rs.cv_results_['params']]\n",
    "_y = [s['c2'] for s in rs.cv_results_['params']]\n",
    "_c = [s for s in rs.cv_results_['mean_test_score']]\n",
    "\n",
    "fig = plt.figure()\n",
    "fig.set_size_inches(12, 12)\n",
    "ax = plt.gca()\n",
    "ax.set_yscale('log')\n",
    "ax.set_xscale('log')\n",
    "ax.set_xlabel('C1')\n",
    "ax.set_ylabel('C2')\n",
    "ax.set_title(\"Randomized Hyperparameter Search CV Results (min={:0.3}, max={:0.3})\".format(\n",
    "    min(_c), max(_c)\n",
    "))\n",
    "\n",
    "ax.scatter(_x, _y, c=_c, s=60, alpha=0.9, edgecolors=[0,0,0])\n",
    "\n",
    "print(\"Dark blue => {:0.4}, dark red => {:0.4}\".format(min(_c), max(_c)))"
   ]
  },
  {
   "cell_type": "code",
   "execution_count": 26,
   "metadata": {},
   "outputs": [
    {
     "name": "stdout",
     "output_type": "stream",
     "text": [
      "                 precision    recall  f1-score   support\n",
      "\n",
      "  B-corporation      0.995     0.986     0.991       221\n",
      "  I-corporation      0.978     0.978     0.978        46\n",
      "B-creative-work      0.972     0.986     0.979       140\n",
      "I-creative-work      0.981     0.995     0.988       206\n",
      "        B-group      0.989     0.996     0.992       264\n",
      "        I-group      0.993     0.993     0.993       150\n",
      "     B-location      0.995     0.991     0.993       548\n",
      "     I-location      1.000     0.988     0.994       245\n",
      "       B-person      0.998     0.994     0.996       660\n",
      "       I-person      1.000     0.997     0.999       335\n",
      "      B-product      1.000     0.979     0.989       142\n",
      "      I-product      0.995     1.000     0.998       203\n",
      "\n",
      "      micro avg      0.994     0.992     0.993      3160\n",
      "      macro avg      0.991     0.990     0.991      3160\n",
      "   weighted avg      0.994     0.992     0.993      3160\n",
      "\n"
     ]
    }
   ],
   "source": [
    "crf = rs.best_estimator_\n",
    "y_pred = crf.predict(X_test)\n",
    "print(metrics.flat_classification_report(\n",
    "    y_test, y_pred, labels=sorted_labels, digits=3\n",
    "))"
   ]
  },
  {
   "cell_type": "code",
   "execution_count": 27,
   "metadata": {},
   "outputs": [
    {
     "name": "stdout",
     "output_type": "stream",
     "text": [
      "Top likely transitions:\n",
      "B-person -> I-person 4.455447\n",
      "B-product -> I-product 4.187016\n",
      "I-creative-work -> I-creative-work 4.178472\n",
      "B-creative-work -> I-creative-work 4.090103\n",
      "B-group -> I-group 3.875313\n",
      "I-corporation -> I-corporation 3.864654\n",
      "I-product -> I-product 3.788509\n",
      "B-corporation -> I-corporation 3.705953\n",
      "I-group -> I-group 3.656703\n",
      "B-location -> I-location 3.161597\n",
      "I-location -> I-location 2.993892\n",
      "O      -> O       2.526975\n",
      "I-person -> I-person 2.099321\n",
      "O      -> B-person 1.178896\n",
      "B-group -> B-creative-work 0.661581\n",
      "O      -> B-group 0.659952\n",
      "O      -> B-corporation 0.650525\n",
      "I-corporation -> B-location 0.516680\n",
      "O      -> B-creative-work 0.460910\n",
      "O      -> B-location 0.405230\n",
      "\n",
      "Top unlikely transitions:\n",
      "I-person -> I-location -1.689823\n",
      "I-creative-work -> I-location -1.701712\n",
      "B-location -> I-product -1.711747\n",
      "I-person -> I-group -1.713531\n",
      "B-corporation -> I-location -1.721678\n",
      "B-group -> I-person -1.722760\n",
      "B-creative-work -> O       -1.839827\n",
      "I-group -> B-group -1.912401\n",
      "B-creative-work -> I-location -2.031564\n",
      "B-person -> I-location -2.102973\n",
      "B-person -> I-group -2.155678\n",
      "B-group -> I-location -2.160281\n",
      "B-location -> I-person -2.276321\n",
      "B-location -> I-group -2.287626\n",
      "O      -> I-corporation -3.491438\n",
      "O      -> I-product -4.593033\n",
      "O      -> I-creative-work -4.729289\n",
      "O      -> I-group -4.853857\n",
      "O      -> I-person -4.959632\n",
      "O      -> I-location -5.371662\n"
     ]
    }
   ],
   "source": [
    "from collections import Counter\n",
    "\n",
    "def print_transitions(trans_features):\n",
    "    for (label_from, label_to), weight in trans_features:\n",
    "        print(\"%-6s -> %-7s %0.6f\" % (label_from, label_to, weight))\n",
    "\n",
    "print(\"Top likely transitions:\")\n",
    "print_transitions(Counter(crf.transition_features_).most_common(20))\n",
    "\n",
    "print(\"\\nTop unlikely transitions:\")\n",
    "print_transitions(Counter(crf.transition_features_).most_common()[-20:])"
   ]
  },
  {
   "cell_type": "code",
   "execution_count": 28,
   "metadata": {},
   "outputs": [
    {
     "name": "stdout",
     "output_type": "stream",
     "text": [
      "Top positive:\n",
      "9.085842 B-corporation word.lower():twitter\n",
      "5.972357 B-person word.lower():pope\n",
      "5.433715 B-location word.lower():jupiter\n",
      "5.243101 B-corporation word.lower():facebook\n",
      "4.971460 B-location word.lower():perth\n",
      "4.969353 B-corporation word.lower():walmart\n",
      "4.968509 B-product word.lower():iphone\n",
      "4.824429 B-location word.lower():bahamas\n",
      "4.791312 B-person word.lower():4dbling\n",
      "4.595813 B-location word.lower():peppers\n",
      "4.174694 B-location word.lower():inverness\n",
      "4.174694 B-location -1:word.lower():tae\n",
      "4.040333 B-location word.lower():lancashire\n",
      "4.034915 B-location word.lower():#denver\n",
      "4.008178 B-group  -1:word.lower():vs\n",
      "3.999690 B-person word.lower():beyonce\n",
      "3.983076 B-person word.lower():billy\n",
      "3.876017 B-person word.lower():ellwood\n",
      "3.850899 B-person word.lower():taylor\n",
      "3.808141 B-person -1:word.lower():silly\n",
      "3.754907 B-group  +1:word.lower():vs\n",
      "3.735351 B-person word.lower():justin\n",
      "3.731052 B-group  word.lower():phily\n",
      "3.682345 B-corporation word.lower():snapchat\n",
      "3.589802 B-location word.lower():aintree\n",
      "3.589802 B-location -1:word.lower():bbt\n",
      "3.580664 B-product word.lower():pringles\n",
      "3.554619 B-person word.lower():@sandervandoorn\n",
      "3.554619 B-person +1:word.lower():remix\n",
      "3.493922 B-location word.lower():alabama\n",
      "\n",
      "Top negative:\n",
      "-2.021901 O        word[-3:]:oss\n",
      "-2.044952 O        -1:word.lower():purchase\n",
      "-2.048643 O        -1:word.lower():thanks\n",
      "-2.048724 O        word.lower():itunes\n",
      "-2.052905 O        word[-3:]:ndo\n",
      "-2.093816 O        -1:word.lower():buying\n",
      "-2.112332 O        word[-2:]:US\n",
      "-2.123402 O        +1:word.lower():page\n",
      "-2.129329 O        +1:word.lower():song\n",
      "-2.133558 O        word[-3:]:bin\n",
      "-2.168677 O        -1:word.lower():beat\n",
      "-2.169358 O        word[-3:]:oys\n",
      "-2.232763 O        -1:word.lower():peace\n",
      "-2.243980 O        +1:word.lower():affiliate\n",
      "-2.275286 O        word[-3:]:ton\n",
      "-2.282197 O        word[-2:]:ka\n",
      "-2.287668 O        word.lower():rose\n",
      "-2.288574 I-person postag[:2]:VB\n",
      "-2.292459 O        -1:word.lower():congrats\n",
      "-2.319245 O        +1:word.lower():host\n",
      "-2.319294 O        word[-2:]:mi\n",
      "-2.388246 O        -1:word.lower():watch\n",
      "-2.389965 O        +1:word.lower():fans\n",
      "-2.481622 O        word[-3:]:nia\n",
      "-2.486610 O        word[-3:]:Pad\n",
      "-2.540403 O        word[-2:]:hi\n",
      "-2.664388 O        +1:word.lower():april\n",
      "-2.780659 O        word[-3:]:lds\n",
      "-3.336095 O        -1:word.lower():green\n",
      "-3.555129 O        -1:word.lower():silly\n"
     ]
    }
   ],
   "source": [
    "def print_state_features(state_features):\n",
    "    for (attr, label), weight in state_features:\n",
    "        print(\"%0.6f %-8s %s\" % (weight, label, attr))\n",
    "\n",
    "print(\"Top positive:\")\n",
    "print_state_features(Counter(crf.state_features_).most_common(30))\n",
    "\n",
    "print(\"\\nTop negative:\")\n",
    "print_state_features(Counter(crf.state_features_).most_common()[-30:])"
   ]
  }
 ],
 "metadata": {
  "kernelspec": {
   "display_name": "Python 3.8.8 ('test')",
   "language": "python",
   "name": "python3"
  },
  "language_info": {
   "codemirror_mode": {
    "name": "ipython",
    "version": 3
   },
   "file_extension": ".py",
   "mimetype": "text/x-python",
   "name": "python",
   "nbconvert_exporter": "python",
   "pygments_lexer": "ipython3",
   "version": "3.8.13"
  },
  "orig_nbformat": 4,
  "vscode": {
   "interpreter": {
    "hash": "0cb112d37eb20a010e3ee565677e60a5d9163b6300b9d1c55520045e8455bba4"
   }
  }
 },
 "nbformat": 4,
 "nbformat_minor": 2
}
